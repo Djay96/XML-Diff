{
 "cells": [
  {
   "cell_type": "code",
   "execution_count": 6,
   "metadata": {},
   "outputs": [],
   "source": [
    "# Required Libraries\n",
    "import os\n",
    "from lxml import etree\n",
    "import pandas as pd\n",
    "import streamlit as st\n",
    "\n",
    "# Function to get a dictionary of XPaths and values from an XML file\n",
    "def get_xpaths_and_values(xml_content):\n",
    "    tree = etree.fromstring(xml_content)\n",
    "    root = etree.ElementTree(tree) # Creating an ElementTree object\n",
    "    xpaths_and_values = {root.getpath(e): e.text for e in tree.iter()} # Using the root object to call getpath\n",
    "    return xpaths_and_values\n",
    "\n",
    "# Function to compare two sets of XML files\n",
    "def compare_xml_files(release_files, production_files):\n",
    "    differences = []\n",
    "\n",
    "    # Compare XML files in both sets\n",
    "    for file_name, release_file_content in release_files.items():\n",
    "        if file_name in production_files:\n",
    "            production_file_content = production_files[file_name]\n",
    "            release_xpaths_and_values = get_xpaths_and_values(release_file_content)\n",
    "            production_xpaths_and_values = get_xpaths_and_values(production_file_content)\n",
    "            for xpath in set(release_xpaths_and_values.keys()).union(production_xpaths_and_values.keys()):\n",
    "                if release_xpaths_and_values.get(xpath) != production_xpaths_and_values.get(xpath):\n",
    "                    differences.append([\n",
    "                        'Differences', file_name, xpath,\n",
    "                        production_xpaths_and_values.get(xpath), release_xpaths_and_values.get(xpath)\n",
    "                    ])\n",
    "        else:\n",
    "            differences.append(['Missing in prod', file_name, None, None, None])\n",
    "\n",
    "    # Check for files missing in release\n",
    "    for file_name in production_files:\n",
    "        if file_name not in release_files:\n",
    "            differences.append(['Missing in release', file_name, None, None, None])\n",
    "\n",
    "    return differences\n",
    "\n",
    "# Streamlit app interface\n",
    "def main():\n",
    "    st.title(\"XML Reconciliation App 🧐\")\n",
    "\n",
    "    st.markdown(\"Upload XML files from **Release** and **Production** folders and compare the differences.\")\n",
    "\n",
    "    # Upload Release XML files\n",
    "    release_files = st.file_uploader(\"Upload Release XML files:\", type=[\"xml\"], accept_multiple_files=True)\n",
    "    release_files_dict = {file.name: file.read() for file in release_files}\n",
    "\n",
    "    # Upload Production XML files\n",
    "    production_files = st.file_uploader(\"Upload Production XML files:\", type=[\"xml\"], accept_multiple_files=True)\n",
    "    production_files_dict = {file.name: file.read() for file in production_files}\n",
    "\n",
    "    # Compare button\n",
    "    if st.button(\"Compare\"):\n",
    "        if not release_files or not production_files:\n",
    "            st.warning(\"Please upload XML files in both Release and Production sections!\")\n",
    "        else:\n",
    "            differences = compare_xml_files(release_files_dict, production_files_dict)\n",
    "            if differences:\n",
    "                df = pd.DataFrame(differences, columns=['Status', 'File Name', 'xPath', 'Value in Production', 'Value Release'])\n",
    "                st.dataframe(df)\n",
    "                st.success(\"Comparison completed! 🎉\")\n",
    "            else:\n",
    "                st.info(\"No differences found between the XML files. 🎉\")\n",
    "\n",
    "# Run the Streamlit app\n",
    "if __name__ == \"__main__\":\n",
    "    main()\n"
   ]
  },
  {
   "cell_type": "code",
   "execution_count": 9,
   "metadata": {},
   "outputs": [
    {
     "name": "stdout",
     "output_type": "stream",
     "text": [
      "^C\n"
     ]
    }
   ],
   "source": [
    "!streamlit run Web_App.py"
   ]
  }
 ],
 "metadata": {
  "kernelspec": {
   "display_name": "Python 3",
   "language": "python",
   "name": "python3"
  },
  "language_info": {
   "codemirror_mode": {
    "name": "ipython",
    "version": 3
   },
   "file_extension": ".py",
   "mimetype": "text/x-python",
   "name": "python",
   "nbconvert_exporter": "python",
   "pygments_lexer": "ipython3",
   "version": "3.10.10"
  }
 },
 "nbformat": 4,
 "nbformat_minor": 2
}
